{
 "cells": [
  {
   "cell_type": "code",
   "execution_count": 7,
   "metadata": {},
   "outputs": [],
   "source": [
    "from matplotlib.backends.backend_agg import FigureCanvas as FigureCanvas \n",
    "from matplotlib.figure import Figure\n",
    "\n",
    "# creating instances\n",
    "fig = Figure()\n",
    "canvas = FigureCanvas(fig)\n",
    "\n",
    "import numpy as np\n",
    "x = np.random.randn(10000)\n",
    "\n",
    "\n",
    "ax = fig.add_subplot(111) # creating an axis artist (111 = 1 row,1 col,subplot goes to cell 1)\n",
    "    # (automatically added to fig.axes conatiner, since it is an Axis Artist)\n",
    "    \n",
    "ax.hist(x,100) # call axis method to gen histogram\n",
    "    # (automatically added to fig.axes conatiner,  since it is an Axis Artist method)\n",
    "\n",
    "ax.set_title('Normal distribution with $\\mu=0, \\sigma=1$')\n",
    "fig.savefig('matplotlib_ArtistLayerExample.png')"
   ]
  },
  {
   "cell_type": "code",
   "execution_count": 10,
   "metadata": {},
   "outputs": [
    {
     "data": {
      "image/png": "[encoded data removed]",
      "text/plain": [
       "<matplotlib.figure.Figure at 0x7f8c980bdad0>"
      ]
     },
     "metadata": {
      "needs_background": "light"
     },
     "output_type": "display_data"
    }
   ],
   "source": [
    "import matplotlib.pyplot as plt\n",
    "import numpy as np\n",
    "\n",
    "x = np.random.randn(10000)\n",
    "plt.hist(x, 100)\n",
    "plt.title('Normal distribution with $\\mu=0, \\sigma=1$')\n",
    "plt.savefig('assets/matplotlib_ArtistLayerExample.png')\n",
    "plt.show()\n",
    "\n"
   ]
  },
  {
   "cell_type": "code",
   "execution_count": null,
   "metadata": {},
   "outputs": [],
   "source": []
  }
 ],
 "metadata": {
  "kernelspec": {
   "display_name": "Python 3",
   "language": "python",
   "name": "python3"
  },
  "language_info": {
   "codemirror_mode": {
    "name": "ipython",
    "version": 3
   },
   "file_extension": ".py",
   "mimetype": "text/x-python",
   "name": "python",
   "nbconvert_exporter": "python",
   "pygments_lexer": "ipython3",
   "version": "3.7.4"
  }
 },
 "nbformat": 4,
 "nbformat_minor": 2
}
